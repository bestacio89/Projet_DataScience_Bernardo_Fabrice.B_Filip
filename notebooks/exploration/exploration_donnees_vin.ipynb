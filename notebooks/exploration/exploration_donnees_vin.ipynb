{
 "cells": [
  {
   "metadata": {},
   "cell_type": "markdown",
   "source": [
    "# Analyse Exploratoire des Données sur le Vin\n",
    "Dans ce notebook, nous allons effectuer une analyse exploratoire des données (EDA) sur un jeu de données de vins. L'objectif est de comprendre la distribution des variables, les relations entre elles et d'identifier des patterns potentiels.\n",
    "\n",
    "## Importer les librairies"
   ],
   "id": "925a86094ae00b28"
  },
  {
   "metadata": {
    "jupyter": {
     "is_executing": true
    }
   },
   "cell_type": "code",
   "source": [
    "import pandas as pd\n",
    "import matplotlib.pyplot as plt\n",
    "import seaborn as sns"
   ],
   "id": "87fd5d42ee61e8e2",
   "outputs": [],
   "execution_count": null
  },
  {
   "metadata": {},
   "cell_type": "markdown",
   "source": [
    "## Charger les données\n",
    "\n",
    "Nous chargeons le jeu de données depuis le fichier CSV."
   ],
   "id": "58f846be9693a09b"
  },
  {
   "metadata": {},
   "cell_type": "code",
   "outputs": [],
   "execution_count": null,
   "source": [
    "# Charger les données\n",
    "data = pd.read_csv(\"../../data/raw/vin.csv\")"
   ],
   "id": "61650c16a57fae69"
  },
  {
   "metadata": {},
   "cell_type": "markdown",
   "source": [
    "## Aperçu des données\n",
    "\n",
    "Affichons les premières lignes du jeu de données pour avoir un aperçu rapide."
   ],
   "id": "68eb7d6afcbe7fdf"
  },
  {
   "metadata": {},
   "cell_type": "code",
   "outputs": [],
   "execution_count": null,
   "source": [
    "# Afficher les premières lignes\n",
    "data.head()"
   ],
   "id": "8968695c660bfd5e"
  },
  {
   "metadata": {},
   "cell_type": "markdown",
   "source": [
    "## Informations sur les données\n",
    "\n",
    "Obtenons des informations détaillées sur les colonnes, y compris les types de données et les valeurs manquantes."
   ],
   "id": "bb226ec6dead7eaa"
  },
  {
   "metadata": {},
   "cell_type": "code",
   "outputs": [],
   "execution_count": null,
   "source": [
    "# Afficher les informations sur les colonnes\n",
    "data.info()"
   ],
   "id": "cab1cb763dac9f2"
  },
  {
   "metadata": {},
   "cell_type": "markdown",
   "source": [
    "## Statistiques descriptives\n",
    "\n",
    "Calculons des statistiques descriptives pour chaque variable numérique afin de comprendre leur distribution."
   ],
   "id": "d1af8d8f3f8b73b2"
  },
  {
   "metadata": {},
   "cell_type": "code",
   "outputs": [],
   "execution_count": null,
   "source": [
    "# Statistiques descriptives\n",
    "data.describe()"
   ],
   "id": "798b15d54cf2ade5"
  },
  {
   "metadata": {},
   "cell_type": "markdown",
   "source": [
    "## Visualisation des données\n",
    "### Histogrammes des variables numériques\n",
    "\n",
    "Visualisons la distribution de chaque variable numérique à l'aide d'histogrammes."
   ],
   "id": "66cbd263f311da73"
  },
  {
   "metadata": {},
   "cell_type": "code",
   "outputs": [],
   "execution_count": null,
   "source": [
    "# Histogrammes des variables numériques\n",
    "data.hist(figsize=(12, 8))\n",
    "plt.tight_layout()\n",
    "plt.show()"
   ],
   "id": "8a6b46ccc6f7b760"
  },
  {
   "metadata": {},
   "cell_type": "markdown",
   "source": [
    "### Nuage de points entre deux variables\n",
    "\n",
    "Examinons la relation entre l'acidité fixe et l'acidité volatile."
   ],
   "id": "5a2d4535288cb46d"
  },
  {
   "metadata": {},
   "cell_type": "code",
   "outputs": [],
   "execution_count": null,
   "source": [
    "# Nuage de points entre deux variables\n",
    "plt.scatter(data['fixed acidity'], data['volatile acidity'])\n",
    "plt.xlabel('Acidité Fixe')\n",
    "plt.ylabel('Acidité Volatile')\n",
    "plt.title('Relation entre l\\'Acidité Fixe et l\\'Acidité Volatile')\n",
    "plt.show()"
   ],
   "id": "dec351bb630ebba0"
  },
  {
   "metadata": {},
   "cell_type": "markdown",
   "source": [
    "### Matrice de corrélation\n",
    "\n",
    "Calculons la matrice de corrélation et visualisons-la à l'aide d'une carte thermique."
   ],
   "id": "3d71bc2049fdfebe"
  },
  {
   "metadata": {},
   "cell_type": "code",
   "outputs": [],
   "execution_count": null,
   "source": [
    "# Matrice de corrélation\n",
    "corr_matrix = data.corr()\n",
    "\n",
    "# Visualisation de la matrice de corrélation\n",
    "plt.figure(figsize=(12, 10))\n",
    "sns.heatmap(corr_matrix, annot=True, cmap='coolwarm')\n",
    "plt.title('Matrice de Corrélation')\n",
    "plt.show()"
   ],
   "id": "6e765f5559485352"
  },
  {
   "metadata": {},
   "cell_type": "markdown",
   "source": [
    "## Conclusion\n",
    "\n",
    "Cette analyse exploratoire nous a permis de :\n",
    "\n",
    "* Comprendre la structure générale du jeu de données.\n",
    "* Identifier les distributions des variables individuelles.\n",
    "* Examiner les relations potentielles entre les variables.\n",
    "\n",
    "Ces informations seront précieuses pour les étapes ultérieures de modélisation et d'analyse."
   ],
   "id": "9d2c28255c064ada"
  }
 ],
 "metadata": {
  "kernelspec": {
   "display_name": "Python 3",
   "language": "python",
   "name": "python3"
  },
  "language_info": {
   "codemirror_mode": {
    "name": "ipython",
    "version": 2
   },
   "file_extension": ".py",
   "mimetype": "text/x-python",
   "name": "python",
   "nbconvert_exporter": "python",
   "pygments_lexer": "ipython2",
   "version": "2.7.6"
  }
 },
 "nbformat": 4,
 "nbformat_minor": 5
}
