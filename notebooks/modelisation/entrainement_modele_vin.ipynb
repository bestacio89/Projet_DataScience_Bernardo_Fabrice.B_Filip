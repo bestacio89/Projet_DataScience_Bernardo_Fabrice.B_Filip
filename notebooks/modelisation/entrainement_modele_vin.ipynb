{
 "cells": [
  {
   "metadata": {},
   "cell_type": "markdown",
   "source": "# Modèle de Régression Linéaire pour la Prédiction de la Qualité des Vins",
   "id": "40647bee95a918b3"
  },
  {
   "metadata": {},
   "cell_type": "markdown",
   "source": "Dans ce notebook, nous allons entraîner un modèle de régression linéaire pour prédire la qualité des vins en utilisant un jeu de données prétraité. Nous utiliserons scikit-learn pour l'entraînement, la prédiction et l'évaluation du modèle.",
   "id": "25e1583cfa48888"
  },
  {
   "metadata": {},
   "cell_type": "markdown",
   "source": "## Importer les librairies",
   "id": "55bea126571aa516"
  },
  {
   "cell_type": "code",
   "id": "initial_id",
   "metadata": {
    "collapsed": true,
    "jupyter": {
     "is_executing": true
    }
   },
   "source": [
    "import pandas as pd\n",
    "from sklearn.linear_model import LinearRegression\n",
    "from sklearn.metrics import mean_squared_error, r2_score\n",
    "from src.models import entrainer_modele_regression, sauvegarder_modele"
   ],
   "outputs": [],
   "execution_count": null
  },
  {
   "metadata": {},
   "cell_type": "markdown",
   "source": [
    "## Charger les données prétraitées\n",
    "\n",
    "Nous chargeons les données prétraitées pour l'entraînement et le test. Si vous n'avez pas encore prétraité vos données, assurez-vous de le faire avant de continuer."
   ],
   "id": "8ebbb9f4a4f9a066"
  },
  {
   "metadata": {
    "jupyter": {
     "is_executing": true
    }
   },
   "cell_type": "code",
   "source": [
    "# Charger les données prétraitées (optionnel)\n",
    "# X_train_preprocessed = pd.read_csv(\"../../data/processed/X_train_vin.csv\")\n",
    "# X_test_preprocessed = pd.read_csv(\"../../data/processed/X_test_vin.csv\")\n",
    "# y_train = pd.read_csv(\"../../data/processed/y_train_vin.csv\")\n",
    "# y_test = pd.read_csv(\"../../data/processed/y_test_vin.csv\")"
   ],
   "id": "bf80add8896ccb96",
   "outputs": [],
   "execution_count": null
  },
  {
   "metadata": {},
   "cell_type": "markdown",
   "source": [
    "## Entraîner le modèle\n",
    "\n",
    "Nous entraînons le modèle de régression linéaire avec les données d'entraînement."
   ],
   "id": "1a02e7d06117a207"
  },
  {
   "metadata": {
    "jupyter": {
     "is_executing": true
    }
   },
   "cell_type": "code",
   "source": [
    "# Entraîner le modèle\n",
    "modele = entrainer_modele_regression(X_train_preprocessed, y_train)"
   ],
   "id": "272b4829022f97f4",
   "outputs": [],
   "execution_count": null
  },
  {
   "metadata": {},
   "cell_type": "markdown",
   "source": "",
   "id": "e012b45fc416e5ea"
  },
  {
   "metadata": {},
   "cell_type": "markdown",
   "source": [
    "## Faire des prédictions sur l'ensemble de test\n",
    "Nous utilisons le modèle entraîné pour prédire les valeurs de l'ensemble de test."
   ],
   "id": "9e4bf6448e828082"
  },
  {
   "metadata": {},
   "cell_type": "code",
   "outputs": [],
   "execution_count": null,
   "source": [
    "# Faire des prédictions sur l'ensemble de test\n",
    "y_pred = modele.predict(X_test_preprocessed)"
   ],
   "id": "8686ba8d068ecbc8"
  },
  {
   "metadata": {},
   "cell_type": "markdown",
   "source": [
    "## Évaluer le modèle\n",
    "Nous évaluons les performances du modèle en calculant le RMSE (Root Mean Squared Error) et le coefficient de détermination R²."
   ],
   "id": "261030eb15dbd034"
  },
  {
   "metadata": {},
   "cell_type": "code",
   "outputs": [],
   "execution_count": null,
   "source": [
    "# Évaluer le modèle\n",
    "rmse = mean_squared_error(y_test, y_pred, squared=False)\n",
    "r2 = r2_score(y_test, y_pred)\n",
    "\n",
    "print(f\"RMSE: {rmse}\")\n",
    "print(f\"R²: {r2}\")"
   ],
   "id": "742de116b4869d97"
  },
  {
   "metadata": {},
   "cell_type": "markdown",
   "source": [
    "## Sauvegarder le modèle\n",
    "Nous sauvegardons le modèle entraîné pour une utilisation future."
   ],
   "id": "a0c150195e755eec"
  },
  {
   "metadata": {},
   "cell_type": "code",
   "outputs": [],
   "execution_count": null,
   "source": [
    "# Sauvegarder le modèle\n",
    "sauvegarder_modele(modele, \"../../models/regression_lineaire/modele_vin.pkl\")"
   ],
   "id": "21e28aa5fb4e59dd"
  }
 ],
 "metadata": {
  "kernelspec": {
   "display_name": "Python 3",
   "language": "python",
   "name": "python3"
  },
  "language_info": {
   "codemirror_mode": {
    "name": "ipython",
    "version": 2
   },
   "file_extension": ".py",
   "mimetype": "text/x-python",
   "name": "python",
   "nbconvert_exporter": "python",
   "pygments_lexer": "ipython2",
   "version": "2.7.6"
  }
 },
 "nbformat": 4,
 "nbformat_minor": 5
}
