{
 "cells": [
  {
   "metadata": {},
   "cell_type": "markdown",
   "source": [
    "# Prétraitement des données de vin\n",
    "## Introduction\n",
    "\n",
    "Dans ce notebook, nous allons prétraiter un jeu de données sur le vin en utilisant des techniques de mise à l'échelle pour les variables numériques et d'encodage pour les variables catégorielles. Le but est de préparer les données pour un modèle de machine learning.\n",
    "# Importer les bibliothèques nécessaires"
   ],
   "id": "4f9f5e0bf179b0cd"
  },
  {
   "metadata": {
    "collapsed": true
   },
   "cell_type": "code",
   "outputs": [],
   "execution_count": null,
   "source": [
    "import pandas as pd\n",
    "from sklearn.model_selection import train_test_split\n",
    "from sklearn.preprocessing import StandardScaler, OneHotEncoder\n",
    "from sklearn.compose import ColumnTransformer"
   ],
   "id": "initial_id"
  },
  {
   "metadata": {},
   "cell_type": "markdown",
   "source": "## Définir la fonction de prétraitement",
   "id": "171167291e9c257b"
  },
  {
   "metadata": {},
   "cell_type": "code",
   "outputs": [],
   "execution_count": null,
   "source": [
    "def preprocessor_donnees_vin(chemin_fichier, variables_numeriques, variables_categorielles, test_size=0.2, random_state=42):\n",
    "    \"\"\"\n",
    "    Préprocesse les données du vin.\n",
    "\n",
    "    Args:\n",
    "        chemin_fichier: Chemin d'accès au fichier CSV contenant les données du vin.\n",
    "        variables_numeriques: Liste des noms des variables numériques.\n",
    "        variables_categorielles: Liste des noms des variables catégorielles.\n",
    "        test_size: Proportion des données à utiliser pour l'ensemble de test.\n",
    "        random_state: Graine aléatoire pour la reproductibilité.\n",
    "\n",
    "    Returns:\n",
    "        X_train_preprocessed: Données d'entraînement prétraitées.\n",
    "        X_test_preprocessed: Données de test prétraitées.\n",
    "        y_train: Variables cibles d'entraînement.\n",
    "        y_test: Variables cibles de test.\n",
    "    \"\"\"\n",
    "    try:\n",
    "        # Charger les données\n",
    "        data = pd.read_csv(chemin_fichier)\n",
    "\n",
    "        # Séparer les features et la variable cible\n",
    "        X = data.drop('target', axis=1)\n",
    "        y = data['target']\n",
    "\n",
    "        # Diviser les données en ensembles d'entraînement et de test\n",
    "        X_train, X_test, y_train, y_test = train_test_split(X, y, test_size=test_size, random_state=random_state)\n",
    "\n",
    "        # Créer le préprocesseur\n",
    "        preprocessor = ColumnTransformer(\n",
    "            transformers=[\n",
    "                ('num', StandardScaler(), variables_numeriques),\n",
    "                ('cat', OneHotEncoder(), variables_categorielles)\n",
    "            ])\n",
    "\n",
    "        # Appliquer le prétraitement sur les données d'entraînement\n",
    "        X_train_preprocessed = preprocessor.fit_transform(X_train)\n",
    "\n",
    "        # Appliquer le prétraitement sur les données de test\n",
    "        X_test_preprocessed = preprocessor.transform(X_test)\n",
    "\n",
    "        return X_train_preprocessed, X_test_preprocessed, y_train, y_test\n",
    "\n",
    "    except FileNotFoundError:\n",
    "        print(f\"Erreur: Fichier non trouvé: {chemin_fichier}\")\n",
    "        return None, None, None, None\n",
    "    except Exception as e:\n",
    "        print(f\"Une erreur est survenue: {e}\")\n",
    "        return None, None, None, None"
   ],
   "id": "eb684c15e348a87b"
  },
  {
   "metadata": {},
   "cell_type": "markdown",
   "source": "## Exécution principale",
   "id": "6913ba258eab4ed5"
  },
  {
   "metadata": {},
   "cell_type": "code",
   "outputs": [],
   "execution_count": null,
   "source": [
    "# Définir les paramètres\n",
    "chemin_fichier_vin = \"../../data/raw/vin.csv\"  # Adaptez le chemin si nécessaire\n",
    "variables_numeriques = ['fixed acidity', 'volatile acidity']  # Adaptez les variables\n",
    "variables_categorielles = ['type']  # Adaptez les variables\n",
    "\n",
    "# Appeler la fonction pour prétraiter les données\n",
    "X_train_preprocessed, X_test_preprocessed, y_train, y_test = preprocessor_donnees_vin(\n",
    "    chemin_fichier_vin, variables_numeriques, variables_categorielles\n",
    ")\n",
    "\n",
    "# Vérifier le résultat\n",
    "if X_train_preprocessed is not None:\n",
    "    print(\"Données prétraitées avec succès!\")\n"
   ],
   "id": "7da3009ddad9b379"
  },
  {
   "metadata": {},
   "cell_type": "markdown",
   "source": [
    "## Conclusion\n",
    "Nous avons réussi à prétraiter les données du vin en séparant les ensembles d'entraînement et de test, en normalisant les variables numériques et en encodant les variables catégorielles. Ces données sont maintenant prêtes pour être utilisées dans un modèle de machine learning."
   ],
   "id": "1c94c9e3d2ba3307"
  }
 ],
 "metadata": {
  "kernelspec": {
   "display_name": "Python 3",
   "language": "python",
   "name": "python3"
  },
  "language_info": {
   "codemirror_mode": {
    "name": "ipython",
    "version": 2
   },
   "file_extension": ".py",
   "mimetype": "text/x-python",
   "name": "python",
   "nbconvert_exporter": "python",
   "pygments_lexer": "ipython2",
   "version": "2.7.6"
  }
 },
 "nbformat": 4,
 "nbformat_minor": 5
}
